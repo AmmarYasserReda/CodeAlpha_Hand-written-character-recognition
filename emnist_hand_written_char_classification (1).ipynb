{
  "nbformat": 4,
  "nbformat_minor": 0,
  "metadata": {
    "colab": {
      "provenance": []
    },
    "kernelspec": {
      "name": "python3",
      "display_name": "Python 3"
    },
    "language_info": {
      "name": "python"
    }
  },
  "cells": [
    {
      "cell_type": "markdown",
      "source": [
        "## Loading the dataset"
      ],
      "metadata": {
        "id": "0mjwCHHQp_pk"
      }
    },
    {
      "cell_type": "code",
      "source": [
        "!pip install kaggle"
      ],
      "metadata": {
        "colab": {
          "base_uri": "https://localhost:8080/"
        },
        "id": "cM3zt3vITM8N",
        "outputId": "7732968a-d4a5-4136-d4ba-f190b1b5cfed"
      },
      "execution_count": null,
      "outputs": [
        {
          "output_type": "stream",
          "name": "stdout",
          "text": [
            "Requirement already satisfied: kaggle in /usr/local/lib/python3.10/dist-packages (1.5.16)\n",
            "Requirement already satisfied: six>=1.10 in /usr/local/lib/python3.10/dist-packages (from kaggle) (1.16.0)\n",
            "Requirement already satisfied: certifi in /usr/local/lib/python3.10/dist-packages (from kaggle) (2024.2.2)\n",
            "Requirement already satisfied: python-dateutil in /usr/local/lib/python3.10/dist-packages (from kaggle) (2.8.2)\n",
            "Requirement already satisfied: requests in /usr/local/lib/python3.10/dist-packages (from kaggle) (2.31.0)\n",
            "Requirement already satisfied: tqdm in /usr/local/lib/python3.10/dist-packages (from kaggle) (4.66.2)\n",
            "Requirement already satisfied: python-slugify in /usr/local/lib/python3.10/dist-packages (from kaggle) (8.0.4)\n",
            "Requirement already satisfied: urllib3 in /usr/local/lib/python3.10/dist-packages (from kaggle) (2.0.7)\n",
            "Requirement already satisfied: bleach in /usr/local/lib/python3.10/dist-packages (from kaggle) (6.1.0)\n",
            "Requirement already satisfied: webencodings in /usr/local/lib/python3.10/dist-packages (from bleach->kaggle) (0.5.1)\n",
            "Requirement already satisfied: text-unidecode>=1.3 in /usr/local/lib/python3.10/dist-packages (from python-slugify->kaggle) (1.3)\n",
            "Requirement already satisfied: charset-normalizer<4,>=2 in /usr/local/lib/python3.10/dist-packages (from requests->kaggle) (3.3.2)\n",
            "Requirement already satisfied: idna<4,>=2.5 in /usr/local/lib/python3.10/dist-packages (from requests->kaggle) (3.6)\n"
          ]
        }
      ]
    },
    {
      "cell_type": "code",
      "source": [
        "from google.colab import files\n",
        "\n",
        "uploaded = files.upload()\n",
        "\n",
        "# Make sure the uploaded file is named kaggle.json\n",
        "!mkdir -p ~/.kaggle\n",
        "!cp kaggle.json ~/.kaggle/\n",
        "!chmod 600 ~/.kaggle/kaggle.json\n"
      ],
      "metadata": {
        "colab": {
          "base_uri": "https://localhost:8080/",
          "height": 73
        },
        "id": "FDDoyYNuTM5h",
        "outputId": "6157712e-1881-4e27-9a0d-ef4fa6ee7221"
      },
      "execution_count": null,
      "outputs": [
        {
          "output_type": "display_data",
          "data": {
            "text/plain": [
              "<IPython.core.display.HTML object>"
            ],
            "text/html": [
              "\n",
              "     <input type=\"file\" id=\"files-41d1338a-e4d6-4aae-853e-8fe8bd1ebda0\" name=\"files[]\" multiple disabled\n",
              "        style=\"border:none\" />\n",
              "     <output id=\"result-41d1338a-e4d6-4aae-853e-8fe8bd1ebda0\">\n",
              "      Upload widget is only available when the cell has been executed in the\n",
              "      current browser session. Please rerun this cell to enable.\n",
              "      </output>\n",
              "      <script>// Copyright 2017 Google LLC\n",
              "//\n",
              "// Licensed under the Apache License, Version 2.0 (the \"License\");\n",
              "// you may not use this file except in compliance with the License.\n",
              "// You may obtain a copy of the License at\n",
              "//\n",
              "//      http://www.apache.org/licenses/LICENSE-2.0\n",
              "//\n",
              "// Unless required by applicable law or agreed to in writing, software\n",
              "// distributed under the License is distributed on an \"AS IS\" BASIS,\n",
              "// WITHOUT WARRANTIES OR CONDITIONS OF ANY KIND, either express or implied.\n",
              "// See the License for the specific language governing permissions and\n",
              "// limitations under the License.\n",
              "\n",
              "/**\n",
              " * @fileoverview Helpers for google.colab Python module.\n",
              " */\n",
              "(function(scope) {\n",
              "function span(text, styleAttributes = {}) {\n",
              "  const element = document.createElement('span');\n",
              "  element.textContent = text;\n",
              "  for (const key of Object.keys(styleAttributes)) {\n",
              "    element.style[key] = styleAttributes[key];\n",
              "  }\n",
              "  return element;\n",
              "}\n",
              "\n",
              "// Max number of bytes which will be uploaded at a time.\n",
              "const MAX_PAYLOAD_SIZE = 100 * 1024;\n",
              "\n",
              "function _uploadFiles(inputId, outputId) {\n",
              "  const steps = uploadFilesStep(inputId, outputId);\n",
              "  const outputElement = document.getElementById(outputId);\n",
              "  // Cache steps on the outputElement to make it available for the next call\n",
              "  // to uploadFilesContinue from Python.\n",
              "  outputElement.steps = steps;\n",
              "\n",
              "  return _uploadFilesContinue(outputId);\n",
              "}\n",
              "\n",
              "// This is roughly an async generator (not supported in the browser yet),\n",
              "// where there are multiple asynchronous steps and the Python side is going\n",
              "// to poll for completion of each step.\n",
              "// This uses a Promise to block the python side on completion of each step,\n",
              "// then passes the result of the previous step as the input to the next step.\n",
              "function _uploadFilesContinue(outputId) {\n",
              "  const outputElement = document.getElementById(outputId);\n",
              "  const steps = outputElement.steps;\n",
              "\n",
              "  const next = steps.next(outputElement.lastPromiseValue);\n",
              "  return Promise.resolve(next.value.promise).then((value) => {\n",
              "    // Cache the last promise value to make it available to the next\n",
              "    // step of the generator.\n",
              "    outputElement.lastPromiseValue = value;\n",
              "    return next.value.response;\n",
              "  });\n",
              "}\n",
              "\n",
              "/**\n",
              " * Generator function which is called between each async step of the upload\n",
              " * process.\n",
              " * @param {string} inputId Element ID of the input file picker element.\n",
              " * @param {string} outputId Element ID of the output display.\n",
              " * @return {!Iterable<!Object>} Iterable of next steps.\n",
              " */\n",
              "function* uploadFilesStep(inputId, outputId) {\n",
              "  const inputElement = document.getElementById(inputId);\n",
              "  inputElement.disabled = false;\n",
              "\n",
              "  const outputElement = document.getElementById(outputId);\n",
              "  outputElement.innerHTML = '';\n",
              "\n",
              "  const pickedPromise = new Promise((resolve) => {\n",
              "    inputElement.addEventListener('change', (e) => {\n",
              "      resolve(e.target.files);\n",
              "    });\n",
              "  });\n",
              "\n",
              "  const cancel = document.createElement('button');\n",
              "  inputElement.parentElement.appendChild(cancel);\n",
              "  cancel.textContent = 'Cancel upload';\n",
              "  const cancelPromise = new Promise((resolve) => {\n",
              "    cancel.onclick = () => {\n",
              "      resolve(null);\n",
              "    };\n",
              "  });\n",
              "\n",
              "  // Wait for the user to pick the files.\n",
              "  const files = yield {\n",
              "    promise: Promise.race([pickedPromise, cancelPromise]),\n",
              "    response: {\n",
              "      action: 'starting',\n",
              "    }\n",
              "  };\n",
              "\n",
              "  cancel.remove();\n",
              "\n",
              "  // Disable the input element since further picks are not allowed.\n",
              "  inputElement.disabled = true;\n",
              "\n",
              "  if (!files) {\n",
              "    return {\n",
              "      response: {\n",
              "        action: 'complete',\n",
              "      }\n",
              "    };\n",
              "  }\n",
              "\n",
              "  for (const file of files) {\n",
              "    const li = document.createElement('li');\n",
              "    li.append(span(file.name, {fontWeight: 'bold'}));\n",
              "    li.append(span(\n",
              "        `(${file.type || 'n/a'}) - ${file.size} bytes, ` +\n",
              "        `last modified: ${\n",
              "            file.lastModifiedDate ? file.lastModifiedDate.toLocaleDateString() :\n",
              "                                    'n/a'} - `));\n",
              "    const percent = span('0% done');\n",
              "    li.appendChild(percent);\n",
              "\n",
              "    outputElement.appendChild(li);\n",
              "\n",
              "    const fileDataPromise = new Promise((resolve) => {\n",
              "      const reader = new FileReader();\n",
              "      reader.onload = (e) => {\n",
              "        resolve(e.target.result);\n",
              "      };\n",
              "      reader.readAsArrayBuffer(file);\n",
              "    });\n",
              "    // Wait for the data to be ready.\n",
              "    let fileData = yield {\n",
              "      promise: fileDataPromise,\n",
              "      response: {\n",
              "        action: 'continue',\n",
              "      }\n",
              "    };\n",
              "\n",
              "    // Use a chunked sending to avoid message size limits. See b/62115660.\n",
              "    let position = 0;\n",
              "    do {\n",
              "      const length = Math.min(fileData.byteLength - position, MAX_PAYLOAD_SIZE);\n",
              "      const chunk = new Uint8Array(fileData, position, length);\n",
              "      position += length;\n",
              "\n",
              "      const base64 = btoa(String.fromCharCode.apply(null, chunk));\n",
              "      yield {\n",
              "        response: {\n",
              "          action: 'append',\n",
              "          file: file.name,\n",
              "          data: base64,\n",
              "        },\n",
              "      };\n",
              "\n",
              "      let percentDone = fileData.byteLength === 0 ?\n",
              "          100 :\n",
              "          Math.round((position / fileData.byteLength) * 100);\n",
              "      percent.textContent = `${percentDone}% done`;\n",
              "\n",
              "    } while (position < fileData.byteLength);\n",
              "  }\n",
              "\n",
              "  // All done.\n",
              "  yield {\n",
              "    response: {\n",
              "      action: 'complete',\n",
              "    }\n",
              "  };\n",
              "}\n",
              "\n",
              "scope.google = scope.google || {};\n",
              "scope.google.colab = scope.google.colab || {};\n",
              "scope.google.colab._files = {\n",
              "  _uploadFiles,\n",
              "  _uploadFilesContinue,\n",
              "};\n",
              "})(self);\n",
              "</script> "
            ]
          },
          "metadata": {}
        },
        {
          "output_type": "stream",
          "name": "stdout",
          "text": [
            "Saving kaggle.json to kaggle.json\n"
          ]
        }
      ]
    },
    {
      "cell_type": "code",
      "source": [
        "!kaggle datasets download -p /content -d crawford/emnist\n"
      ],
      "metadata": {
        "colab": {
          "base_uri": "https://localhost:8080/"
        },
        "id": "HCM74ZS6TM3G",
        "outputId": "009df611-8ea1-4359-fed0-916c616450f5"
      },
      "execution_count": null,
      "outputs": [
        {
          "output_type": "stream",
          "name": "stdout",
          "text": [
            "Downloading emnist.zip to /content\n",
            "100% 1.23G/1.24G [00:14<00:00, 99.2MB/s]\n",
            "100% 1.24G/1.24G [00:14<00:00, 94.7MB/s]\n"
          ]
        }
      ]
    },
    {
      "cell_type": "code",
      "source": [
        "import zipfile\n",
        "with zipfile.ZipFile('/content/emnist.zip', 'r') as zip_ref:\n",
        "    zip_ref.extractall('')"
      ],
      "metadata": {
        "id": "wknCDcCITMz9"
      },
      "execution_count": null,
      "outputs": []
    },
    {
      "cell_type": "code",
      "source": [
        "import pandas as pd\n",
        "import numpy as np\n",
        "import tensorflow as tf\n",
        "import seaborn as sns"
      ],
      "metadata": {
        "execution": {
          "iopub.status.busy": "2024-04-02T14:42:42.105612Z",
          "iopub.execute_input": "2024-04-02T14:42:42.105952Z",
          "iopub.status.idle": "2024-04-02T14:42:42.110027Z",
          "shell.execute_reply.started": "2024-04-02T14:42:42.105909Z",
          "shell.execute_reply": "2024-04-02T14:42:42.109003Z"
        },
        "trusted": true,
        "id": "H7ZCtJq4TDSr"
      },
      "execution_count": null,
      "outputs": []
    },
    {
      "cell_type": "markdown",
      "source": [
        "## Splitting the data"
      ],
      "metadata": {
        "id": "WkpmMRi0qOcM"
      }
    },
    {
      "cell_type": "code",
      "source": [
        "#/kaggle/input/emnist/emnist-letters-mapping.txt\n",
        "testing_letter = pd.read_csv('/content/emnist-letters-test.csv')\n",
        "training_letter = pd.read_csv('/content/emnist-letters-train.csv')"
      ],
      "metadata": {
        "_uuid": "d629ff2d2480ee46fbb7e2d37f6b5fab8052498a",
        "_cell_guid": "79c7e3d0-c299-4dcb-8224-4455121ee9b0",
        "execution": {
          "iopub.status.busy": "2024-04-02T14:40:51.335103Z",
          "iopub.execute_input": "2024-04-02T14:40:51.335483Z",
          "iopub.status.idle": "2024-04-02T14:41:02.069027Z",
          "shell.execute_reply.started": "2024-04-02T14:40:51.335426Z",
          "shell.execute_reply": "2024-04-02T14:41:02.068277Z"
        },
        "trusted": true,
        "id": "zM5a3woJTDSr"
      },
      "execution_count": null,
      "outputs": []
    },
    {
      "cell_type": "code",
      "source": [
        "testing_letter"
      ],
      "metadata": {
        "colab": {
          "base_uri": "https://localhost:8080/",
          "height": 423
        },
        "id": "OQO5JOpgcZw_",
        "outputId": "36b15f61-8b5c-40e0-e9b7-d62b864900a1"
      },
      "execution_count": null,
      "outputs": [
        {
          "output_type": "execute_result",
          "data": {
            "text/plain": [
              "        1  0  0.1  0.2  0.3  0.4  0.5  0.6  0.7  0.8  ...  0.548  0.549  \\\n",
              "0       1  0    0    0    0    0    0    0    0    0  ...      0      0   \n",
              "1       1  0    0    0    0    0    0    0    0    0  ...      0      0   \n",
              "2       1  0    0    0    0    0    0    0    0    0  ...      0      0   \n",
              "3       1  0    0    0    0    0    0    0    0    0  ...      0      0   \n",
              "4       1  0    0    0    0    0    0    0    0    0  ...      0      0   \n",
              "...    .. ..  ...  ...  ...  ...  ...  ...  ...  ...  ...    ...    ...   \n",
              "14794  19  0    0    0    0    0    0    0    0    0  ...      0      0   \n",
              "14795  19  0    0    0    0    0    0    0    0    0  ...      0      0   \n",
              "14796  19  0    0    0    0    0    0    0    0    0  ...      0      0   \n",
              "14797  19  0    0    0    0    0    0    0    0    0  ...      0      0   \n",
              "14798  19  0    0    0    0    0    0    0    0    0  ...      0      0   \n",
              "\n",
              "       0.550  0.551  0.552  0.553  0.554  0.555  0.556  0.557  \n",
              "0          0      0      0      0      0      0      0      0  \n",
              "1          0      0      0      0      0      0      0      0  \n",
              "2          0      0      0      0      0      0      0      0  \n",
              "3          0      0      0      0      0      0      0      0  \n",
              "4          0      0      0      0      0      0      0      0  \n",
              "...      ...    ...    ...    ...    ...    ...    ...    ...  \n",
              "14794      0      0      0      0      0      0      0      0  \n",
              "14795      0      0      0      0      0      0      0      0  \n",
              "14796      0      0      0      0      0      0      0      0  \n",
              "14797      0      0      0      0      0      0      0      0  \n",
              "14798      0      0      0      0      0      0      0      0  \n",
              "\n",
              "[14799 rows x 785 columns]"
            ],
            "text/html": [
              "\n",
              "  <div id=\"df-7c778cf8-0b00-4367-a5b8-3766ff46c2f4\" class=\"colab-df-container\">\n",
              "    <div>\n",
              "<style scoped>\n",
              "    .dataframe tbody tr th:only-of-type {\n",
              "        vertical-align: middle;\n",
              "    }\n",
              "\n",
              "    .dataframe tbody tr th {\n",
              "        vertical-align: top;\n",
              "    }\n",
              "\n",
              "    .dataframe thead th {\n",
              "        text-align: right;\n",
              "    }\n",
              "</style>\n",
              "<table border=\"1\" class=\"dataframe\">\n",
              "  <thead>\n",
              "    <tr style=\"text-align: right;\">\n",
              "      <th></th>\n",
              "      <th>1</th>\n",
              "      <th>0</th>\n",
              "      <th>0.1</th>\n",
              "      <th>0.2</th>\n",
              "      <th>0.3</th>\n",
              "      <th>0.4</th>\n",
              "      <th>0.5</th>\n",
              "      <th>0.6</th>\n",
              "      <th>0.7</th>\n",
              "      <th>0.8</th>\n",
              "      <th>...</th>\n",
              "      <th>0.548</th>\n",
              "      <th>0.549</th>\n",
              "      <th>0.550</th>\n",
              "      <th>0.551</th>\n",
              "      <th>0.552</th>\n",
              "      <th>0.553</th>\n",
              "      <th>0.554</th>\n",
              "      <th>0.555</th>\n",
              "      <th>0.556</th>\n",
              "      <th>0.557</th>\n",
              "    </tr>\n",
              "  </thead>\n",
              "  <tbody>\n",
              "    <tr>\n",
              "      <th>0</th>\n",
              "      <td>1</td>\n",
              "      <td>0</td>\n",
              "      <td>0</td>\n",
              "      <td>0</td>\n",
              "      <td>0</td>\n",
              "      <td>0</td>\n",
              "      <td>0</td>\n",
              "      <td>0</td>\n",
              "      <td>0</td>\n",
              "      <td>0</td>\n",
              "      <td>...</td>\n",
              "      <td>0</td>\n",
              "      <td>0</td>\n",
              "      <td>0</td>\n",
              "      <td>0</td>\n",
              "      <td>0</td>\n",
              "      <td>0</td>\n",
              "      <td>0</td>\n",
              "      <td>0</td>\n",
              "      <td>0</td>\n",
              "      <td>0</td>\n",
              "    </tr>\n",
              "    <tr>\n",
              "      <th>1</th>\n",
              "      <td>1</td>\n",
              "      <td>0</td>\n",
              "      <td>0</td>\n",
              "      <td>0</td>\n",
              "      <td>0</td>\n",
              "      <td>0</td>\n",
              "      <td>0</td>\n",
              "      <td>0</td>\n",
              "      <td>0</td>\n",
              "      <td>0</td>\n",
              "      <td>...</td>\n",
              "      <td>0</td>\n",
              "      <td>0</td>\n",
              "      <td>0</td>\n",
              "      <td>0</td>\n",
              "      <td>0</td>\n",
              "      <td>0</td>\n",
              "      <td>0</td>\n",
              "      <td>0</td>\n",
              "      <td>0</td>\n",
              "      <td>0</td>\n",
              "    </tr>\n",
              "    <tr>\n",
              "      <th>2</th>\n",
              "      <td>1</td>\n",
              "      <td>0</td>\n",
              "      <td>0</td>\n",
              "      <td>0</td>\n",
              "      <td>0</td>\n",
              "      <td>0</td>\n",
              "      <td>0</td>\n",
              "      <td>0</td>\n",
              "      <td>0</td>\n",
              "      <td>0</td>\n",
              "      <td>...</td>\n",
              "      <td>0</td>\n",
              "      <td>0</td>\n",
              "      <td>0</td>\n",
              "      <td>0</td>\n",
              "      <td>0</td>\n",
              "      <td>0</td>\n",
              "      <td>0</td>\n",
              "      <td>0</td>\n",
              "      <td>0</td>\n",
              "      <td>0</td>\n",
              "    </tr>\n",
              "    <tr>\n",
              "      <th>3</th>\n",
              "      <td>1</td>\n",
              "      <td>0</td>\n",
              "      <td>0</td>\n",
              "      <td>0</td>\n",
              "      <td>0</td>\n",
              "      <td>0</td>\n",
              "      <td>0</td>\n",
              "      <td>0</td>\n",
              "      <td>0</td>\n",
              "      <td>0</td>\n",
              "      <td>...</td>\n",
              "      <td>0</td>\n",
              "      <td>0</td>\n",
              "      <td>0</td>\n",
              "      <td>0</td>\n",
              "      <td>0</td>\n",
              "      <td>0</td>\n",
              "      <td>0</td>\n",
              "      <td>0</td>\n",
              "      <td>0</td>\n",
              "      <td>0</td>\n",
              "    </tr>\n",
              "    <tr>\n",
              "      <th>4</th>\n",
              "      <td>1</td>\n",
              "      <td>0</td>\n",
              "      <td>0</td>\n",
              "      <td>0</td>\n",
              "      <td>0</td>\n",
              "      <td>0</td>\n",
              "      <td>0</td>\n",
              "      <td>0</td>\n",
              "      <td>0</td>\n",
              "      <td>0</td>\n",
              "      <td>...</td>\n",
              "      <td>0</td>\n",
              "      <td>0</td>\n",
              "      <td>0</td>\n",
              "      <td>0</td>\n",
              "      <td>0</td>\n",
              "      <td>0</td>\n",
              "      <td>0</td>\n",
              "      <td>0</td>\n",
              "      <td>0</td>\n",
              "      <td>0</td>\n",
              "    </tr>\n",
              "    <tr>\n",
              "      <th>...</th>\n",
              "      <td>...</td>\n",
              "      <td>...</td>\n",
              "      <td>...</td>\n",
              "      <td>...</td>\n",
              "      <td>...</td>\n",
              "      <td>...</td>\n",
              "      <td>...</td>\n",
              "      <td>...</td>\n",
              "      <td>...</td>\n",
              "      <td>...</td>\n",
              "      <td>...</td>\n",
              "      <td>...</td>\n",
              "      <td>...</td>\n",
              "      <td>...</td>\n",
              "      <td>...</td>\n",
              "      <td>...</td>\n",
              "      <td>...</td>\n",
              "      <td>...</td>\n",
              "      <td>...</td>\n",
              "      <td>...</td>\n",
              "      <td>...</td>\n",
              "    </tr>\n",
              "    <tr>\n",
              "      <th>14794</th>\n",
              "      <td>19</td>\n",
              "      <td>0</td>\n",
              "      <td>0</td>\n",
              "      <td>0</td>\n",
              "      <td>0</td>\n",
              "      <td>0</td>\n",
              "      <td>0</td>\n",
              "      <td>0</td>\n",
              "      <td>0</td>\n",
              "      <td>0</td>\n",
              "      <td>...</td>\n",
              "      <td>0</td>\n",
              "      <td>0</td>\n",
              "      <td>0</td>\n",
              "      <td>0</td>\n",
              "      <td>0</td>\n",
              "      <td>0</td>\n",
              "      <td>0</td>\n",
              "      <td>0</td>\n",
              "      <td>0</td>\n",
              "      <td>0</td>\n",
              "    </tr>\n",
              "    <tr>\n",
              "      <th>14795</th>\n",
              "      <td>19</td>\n",
              "      <td>0</td>\n",
              "      <td>0</td>\n",
              "      <td>0</td>\n",
              "      <td>0</td>\n",
              "      <td>0</td>\n",
              "      <td>0</td>\n",
              "      <td>0</td>\n",
              "      <td>0</td>\n",
              "      <td>0</td>\n",
              "      <td>...</td>\n",
              "      <td>0</td>\n",
              "      <td>0</td>\n",
              "      <td>0</td>\n",
              "      <td>0</td>\n",
              "      <td>0</td>\n",
              "      <td>0</td>\n",
              "      <td>0</td>\n",
              "      <td>0</td>\n",
              "      <td>0</td>\n",
              "      <td>0</td>\n",
              "    </tr>\n",
              "    <tr>\n",
              "      <th>14796</th>\n",
              "      <td>19</td>\n",
              "      <td>0</td>\n",
              "      <td>0</td>\n",
              "      <td>0</td>\n",
              "      <td>0</td>\n",
              "      <td>0</td>\n",
              "      <td>0</td>\n",
              "      <td>0</td>\n",
              "      <td>0</td>\n",
              "      <td>0</td>\n",
              "      <td>...</td>\n",
              "      <td>0</td>\n",
              "      <td>0</td>\n",
              "      <td>0</td>\n",
              "      <td>0</td>\n",
              "      <td>0</td>\n",
              "      <td>0</td>\n",
              "      <td>0</td>\n",
              "      <td>0</td>\n",
              "      <td>0</td>\n",
              "      <td>0</td>\n",
              "    </tr>\n",
              "    <tr>\n",
              "      <th>14797</th>\n",
              "      <td>19</td>\n",
              "      <td>0</td>\n",
              "      <td>0</td>\n",
              "      <td>0</td>\n",
              "      <td>0</td>\n",
              "      <td>0</td>\n",
              "      <td>0</td>\n",
              "      <td>0</td>\n",
              "      <td>0</td>\n",
              "      <td>0</td>\n",
              "      <td>...</td>\n",
              "      <td>0</td>\n",
              "      <td>0</td>\n",
              "      <td>0</td>\n",
              "      <td>0</td>\n",
              "      <td>0</td>\n",
              "      <td>0</td>\n",
              "      <td>0</td>\n",
              "      <td>0</td>\n",
              "      <td>0</td>\n",
              "      <td>0</td>\n",
              "    </tr>\n",
              "    <tr>\n",
              "      <th>14798</th>\n",
              "      <td>19</td>\n",
              "      <td>0</td>\n",
              "      <td>0</td>\n",
              "      <td>0</td>\n",
              "      <td>0</td>\n",
              "      <td>0</td>\n",
              "      <td>0</td>\n",
              "      <td>0</td>\n",
              "      <td>0</td>\n",
              "      <td>0</td>\n",
              "      <td>...</td>\n",
              "      <td>0</td>\n",
              "      <td>0</td>\n",
              "      <td>0</td>\n",
              "      <td>0</td>\n",
              "      <td>0</td>\n",
              "      <td>0</td>\n",
              "      <td>0</td>\n",
              "      <td>0</td>\n",
              "      <td>0</td>\n",
              "      <td>0</td>\n",
              "    </tr>\n",
              "  </tbody>\n",
              "</table>\n",
              "<p>14799 rows × 785 columns</p>\n",
              "</div>\n",
              "    <div class=\"colab-df-buttons\">\n",
              "\n",
              "  <div class=\"colab-df-container\">\n",
              "    <button class=\"colab-df-convert\" onclick=\"convertToInteractive('df-7c778cf8-0b00-4367-a5b8-3766ff46c2f4')\"\n",
              "            title=\"Convert this dataframe to an interactive table.\"\n",
              "            style=\"display:none;\">\n",
              "\n",
              "  <svg xmlns=\"http://www.w3.org/2000/svg\" height=\"24px\" viewBox=\"0 -960 960 960\">\n",
              "    <path d=\"M120-120v-720h720v720H120Zm60-500h600v-160H180v160Zm220 220h160v-160H400v160Zm0 220h160v-160H400v160ZM180-400h160v-160H180v160Zm440 0h160v-160H620v160ZM180-180h160v-160H180v160Zm440 0h160v-160H620v160Z\"/>\n",
              "  </svg>\n",
              "    </button>\n",
              "\n",
              "  <style>\n",
              "    .colab-df-container {\n",
              "      display:flex;\n",
              "      gap: 12px;\n",
              "    }\n",
              "\n",
              "    .colab-df-convert {\n",
              "      background-color: #E8F0FE;\n",
              "      border: none;\n",
              "      border-radius: 50%;\n",
              "      cursor: pointer;\n",
              "      display: none;\n",
              "      fill: #1967D2;\n",
              "      height: 32px;\n",
              "      padding: 0 0 0 0;\n",
              "      width: 32px;\n",
              "    }\n",
              "\n",
              "    .colab-df-convert:hover {\n",
              "      background-color: #E2EBFA;\n",
              "      box-shadow: 0px 1px 2px rgba(60, 64, 67, 0.3), 0px 1px 3px 1px rgba(60, 64, 67, 0.15);\n",
              "      fill: #174EA6;\n",
              "    }\n",
              "\n",
              "    .colab-df-buttons div {\n",
              "      margin-bottom: 4px;\n",
              "    }\n",
              "\n",
              "    [theme=dark] .colab-df-convert {\n",
              "      background-color: #3B4455;\n",
              "      fill: #D2E3FC;\n",
              "    }\n",
              "\n",
              "    [theme=dark] .colab-df-convert:hover {\n",
              "      background-color: #434B5C;\n",
              "      box-shadow: 0px 1px 3px 1px rgba(0, 0, 0, 0.15);\n",
              "      filter: drop-shadow(0px 1px 2px rgba(0, 0, 0, 0.3));\n",
              "      fill: #FFFFFF;\n",
              "    }\n",
              "  </style>\n",
              "\n",
              "    <script>\n",
              "      const buttonEl =\n",
              "        document.querySelector('#df-7c778cf8-0b00-4367-a5b8-3766ff46c2f4 button.colab-df-convert');\n",
              "      buttonEl.style.display =\n",
              "        google.colab.kernel.accessAllowed ? 'block' : 'none';\n",
              "\n",
              "      async function convertToInteractive(key) {\n",
              "        const element = document.querySelector('#df-7c778cf8-0b00-4367-a5b8-3766ff46c2f4');\n",
              "        const dataTable =\n",
              "          await google.colab.kernel.invokeFunction('convertToInteractive',\n",
              "                                                    [key], {});\n",
              "        if (!dataTable) return;\n",
              "\n",
              "        const docLinkHtml = 'Like what you see? Visit the ' +\n",
              "          '<a target=\"_blank\" href=https://colab.research.google.com/notebooks/data_table.ipynb>data table notebook</a>'\n",
              "          + ' to learn more about interactive tables.';\n",
              "        element.innerHTML = '';\n",
              "        dataTable['output_type'] = 'display_data';\n",
              "        await google.colab.output.renderOutput(dataTable, element);\n",
              "        const docLink = document.createElement('div');\n",
              "        docLink.innerHTML = docLinkHtml;\n",
              "        element.appendChild(docLink);\n",
              "      }\n",
              "    </script>\n",
              "  </div>\n",
              "\n",
              "\n",
              "<div id=\"df-159a93ff-8e36-40da-8cbd-b0aa507be9af\">\n",
              "  <button class=\"colab-df-quickchart\" onclick=\"quickchart('df-159a93ff-8e36-40da-8cbd-b0aa507be9af')\"\n",
              "            title=\"Suggest charts\"\n",
              "            style=\"display:none;\">\n",
              "\n",
              "<svg xmlns=\"http://www.w3.org/2000/svg\" height=\"24px\"viewBox=\"0 0 24 24\"\n",
              "     width=\"24px\">\n",
              "    <g>\n",
              "        <path d=\"M19 3H5c-1.1 0-2 .9-2 2v14c0 1.1.9 2 2 2h14c1.1 0 2-.9 2-2V5c0-1.1-.9-2-2-2zM9 17H7v-7h2v7zm4 0h-2V7h2v10zm4 0h-2v-4h2v4z\"/>\n",
              "    </g>\n",
              "</svg>\n",
              "  </button>\n",
              "\n",
              "<style>\n",
              "  .colab-df-quickchart {\n",
              "      --bg-color: #E8F0FE;\n",
              "      --fill-color: #1967D2;\n",
              "      --hover-bg-color: #E2EBFA;\n",
              "      --hover-fill-color: #174EA6;\n",
              "      --disabled-fill-color: #AAA;\n",
              "      --disabled-bg-color: #DDD;\n",
              "  }\n",
              "\n",
              "  [theme=dark] .colab-df-quickchart {\n",
              "      --bg-color: #3B4455;\n",
              "      --fill-color: #D2E3FC;\n",
              "      --hover-bg-color: #434B5C;\n",
              "      --hover-fill-color: #FFFFFF;\n",
              "      --disabled-bg-color: #3B4455;\n",
              "      --disabled-fill-color: #666;\n",
              "  }\n",
              "\n",
              "  .colab-df-quickchart {\n",
              "    background-color: var(--bg-color);\n",
              "    border: none;\n",
              "    border-radius: 50%;\n",
              "    cursor: pointer;\n",
              "    display: none;\n",
              "    fill: var(--fill-color);\n",
              "    height: 32px;\n",
              "    padding: 0;\n",
              "    width: 32px;\n",
              "  }\n",
              "\n",
              "  .colab-df-quickchart:hover {\n",
              "    background-color: var(--hover-bg-color);\n",
              "    box-shadow: 0 1px 2px rgba(60, 64, 67, 0.3), 0 1px 3px 1px rgba(60, 64, 67, 0.15);\n",
              "    fill: var(--button-hover-fill-color);\n",
              "  }\n",
              "\n",
              "  .colab-df-quickchart-complete:disabled,\n",
              "  .colab-df-quickchart-complete:disabled:hover {\n",
              "    background-color: var(--disabled-bg-color);\n",
              "    fill: var(--disabled-fill-color);\n",
              "    box-shadow: none;\n",
              "  }\n",
              "\n",
              "  .colab-df-spinner {\n",
              "    border: 2px solid var(--fill-color);\n",
              "    border-color: transparent;\n",
              "    border-bottom-color: var(--fill-color);\n",
              "    animation:\n",
              "      spin 1s steps(1) infinite;\n",
              "  }\n",
              "\n",
              "  @keyframes spin {\n",
              "    0% {\n",
              "      border-color: transparent;\n",
              "      border-bottom-color: var(--fill-color);\n",
              "      border-left-color: var(--fill-color);\n",
              "    }\n",
              "    20% {\n",
              "      border-color: transparent;\n",
              "      border-left-color: var(--fill-color);\n",
              "      border-top-color: var(--fill-color);\n",
              "    }\n",
              "    30% {\n",
              "      border-color: transparent;\n",
              "      border-left-color: var(--fill-color);\n",
              "      border-top-color: var(--fill-color);\n",
              "      border-right-color: var(--fill-color);\n",
              "    }\n",
              "    40% {\n",
              "      border-color: transparent;\n",
              "      border-right-color: var(--fill-color);\n",
              "      border-top-color: var(--fill-color);\n",
              "    }\n",
              "    60% {\n",
              "      border-color: transparent;\n",
              "      border-right-color: var(--fill-color);\n",
              "    }\n",
              "    80% {\n",
              "      border-color: transparent;\n",
              "      border-right-color: var(--fill-color);\n",
              "      border-bottom-color: var(--fill-color);\n",
              "    }\n",
              "    90% {\n",
              "      border-color: transparent;\n",
              "      border-bottom-color: var(--fill-color);\n",
              "    }\n",
              "  }\n",
              "</style>\n",
              "\n",
              "  <script>\n",
              "    async function quickchart(key) {\n",
              "      const quickchartButtonEl =\n",
              "        document.querySelector('#' + key + ' button');\n",
              "      quickchartButtonEl.disabled = true;  // To prevent multiple clicks.\n",
              "      quickchartButtonEl.classList.add('colab-df-spinner');\n",
              "      try {\n",
              "        const charts = await google.colab.kernel.invokeFunction(\n",
              "            'suggestCharts', [key], {});\n",
              "      } catch (error) {\n",
              "        console.error('Error during call to suggestCharts:', error);\n",
              "      }\n",
              "      quickchartButtonEl.classList.remove('colab-df-spinner');\n",
              "      quickchartButtonEl.classList.add('colab-df-quickchart-complete');\n",
              "    }\n",
              "    (() => {\n",
              "      let quickchartButtonEl =\n",
              "        document.querySelector('#df-159a93ff-8e36-40da-8cbd-b0aa507be9af button');\n",
              "      quickchartButtonEl.style.display =\n",
              "        google.colab.kernel.accessAllowed ? 'block' : 'none';\n",
              "    })();\n",
              "  </script>\n",
              "</div>\n",
              "    </div>\n",
              "  </div>\n"
            ],
            "application/vnd.google.colaboratory.intrinsic+json": {
              "type": "dataframe",
              "variable_name": "testing_letter"
            }
          },
          "metadata": {},
          "execution_count": 7
        }
      ]
    },
    {
      "cell_type": "code",
      "source": [
        "print(training_letter.shape)\n",
        "print(testing_letter.shape)"
      ],
      "metadata": {
        "execution": {
          "iopub.status.busy": "2024-04-02T14:41:02.070925Z",
          "iopub.execute_input": "2024-04-02T14:41:02.071246Z",
          "iopub.status.idle": "2024-04-02T14:41:02.076321Z",
          "shell.execute_reply.started": "2024-04-02T14:41:02.071202Z",
          "shell.execute_reply": "2024-04-02T14:41:02.075293Z"
        },
        "trusted": true,
        "colab": {
          "base_uri": "https://localhost:8080/"
        },
        "id": "Sc1wmuRGTDSs",
        "outputId": "985d2c97-7e1e-41c3-e747-e03e6d9fc34e"
      },
      "execution_count": null,
      "outputs": [
        {
          "output_type": "stream",
          "name": "stdout",
          "text": [
            "(88799, 785)\n",
            "(14799, 785)\n"
          ]
        }
      ]
    },
    {
      "cell_type": "code",
      "source": [
        "#training_letters\n",
        "y1 = np.array(training_letter.iloc[:,0].values)\n",
        "x1 = np.array(training_letter.iloc[:,1:].values)\n",
        "#testing_labels\n",
        "y2 = np.array(testing_letter.iloc[:,0].values)\n",
        "x2 = np.array(testing_letter.iloc[:,1:].values)\n",
        "print(y1.shape)\n",
        "print(x1.shape)"
      ],
      "metadata": {
        "execution": {
          "iopub.status.busy": "2024-04-02T14:42:43.950040Z",
          "iopub.execute_input": "2024-04-02T14:42:43.950399Z",
          "iopub.status.idle": "2024-04-02T14:42:44.173842Z",
          "shell.execute_reply.started": "2024-04-02T14:42:43.950356Z",
          "shell.execute_reply": "2024-04-02T14:42:44.173000Z"
        },
        "trusted": true,
        "colab": {
          "base_uri": "https://localhost:8080/"
        },
        "id": "7-v_CVysTDSs",
        "outputId": "6010634d-f2a7-4b7a-ece8-30331d929ac1"
      },
      "execution_count": null,
      "outputs": [
        {
          "output_type": "stream",
          "name": "stdout",
          "text": [
            "(88799,)\n",
            "(88799, 784)\n"
          ]
        }
      ]
    },
    {
      "cell_type": "markdown",
      "source": [
        "## Displaying some images"
      ],
      "metadata": {
        "id": "arakCp0BqSO6"
      }
    },
    {
      "cell_type": "code",
      "source": [
        "import matplotlib.pyplot as plt\n",
        "fig,axes = plt.subplots(3,5,figsize=(10,8))\n",
        "for i,ax in enumerate(axes.flat):\n",
        "    ax.imshow(x1[i].reshape([28,28]))\n"
      ],
      "metadata": {
        "execution": {
          "iopub.status.busy": "2024-04-02T14:42:49.102036Z",
          "iopub.execute_input": "2024-04-02T14:42:49.102434Z",
          "iopub.status.idle": "2024-04-02T14:42:50.610714Z",
          "shell.execute_reply.started": "2024-04-02T14:42:49.102387Z",
          "shell.execute_reply": "2024-04-02T14:42:50.609944Z"
        },
        "trusted": true,
        "colab": {
          "base_uri": "https://localhost:8080/",
          "height": 632
        },
        "id": "1_ZWgSp-TDSs",
        "outputId": "3e8d3f5c-b288-4c29-ee1a-82a06e37e274"
      },
      "execution_count": null,
      "outputs": [
        {
          "output_type": "display_data",
          "data": {
            "text/plain": [
              "<Figure size 1000x800 with 15 Axes>"
            ],
            "image/png": "[encoded data removed]"
          },
          "metadata": {}
        }
      ]
    },
    {
      "cell_type": "markdown",
      "source": [
        "## Normalizing and reshaping the data"
      ],
      "metadata": {
        "id": "QSY80ZgDqZJP"
      }
    },
    {
      "cell_type": "code",
      "source": [
        "# Normalise and reshape data\n",
        "train_images = x1 / 255.0\n",
        "test_images = x2 / 255.0\n",
        "\n",
        "train_images_number = train_images.shape[0]\n",
        "train_images_height = 28\n",
        "train_images_width = 28\n",
        "train_images_size = train_images_height*train_images_width\n",
        "\n",
        "train_images = train_images.reshape(train_images_number, train_images_height, train_images_width, 1)\n",
        "\n",
        "test_images_number = test_images.shape[0]\n",
        "test_images_height = 28\n",
        "test_images_width = 28\n",
        "test_images_size = test_images_height*test_images_width\n",
        "\n",
        "test_images = test_images.reshape(test_images_number, test_images_height, test_images_width, 1)\n",
        "print(train_images.shape,test_images.shape)"
      ],
      "metadata": {
        "trusted": true,
        "colab": {
          "base_uri": "https://localhost:8080/"
        },
        "id": "ceP6p9fbTDSt",
        "outputId": "dd3ba6b7-2b21-4065-c9a4-7eb85bf53d51"
      },
      "execution_count": null,
      "outputs": [
        {
          "output_type": "stream",
          "name": "stdout",
          "text": [
            "(88799, 28, 28, 1) (14799, 28, 28, 1)\n"
          ]
        }
      ]
    },
    {
      "cell_type": "code",
      "source": [
        "# Transform labels\n",
        "number_of_classes = 37\n",
        "\n",
        "y1 = tf.keras.utils.to_categorical(y1, number_of_classes)\n",
        "y2 = tf.keras.utils.to_categorical(y2, number_of_classes)"
      ],
      "metadata": {
        "trusted": true,
        "id": "0TCfD76kTDSt"
      },
      "execution_count": null,
      "outputs": []
    },
    {
      "cell_type": "code",
      "source": [
        "from tensorflow.keras.callbacks import EarlyStopping, ReduceLROnPlateau,ModelCheckpoint"
      ],
      "metadata": {
        "trusted": true,
        "id": "cRpBGhcUTDSt"
      },
      "execution_count": null,
      "outputs": []
    },
    {
      "cell_type": "code",
      "source": [
        "from sklearn.model_selection import train_test_split"
      ],
      "metadata": {
        "trusted": true,
        "id": "0hGCNS-7TDSu"
      },
      "execution_count": null,
      "outputs": []
    },
    {
      "cell_type": "code",
      "source": [
        "x_train,x_test,y_train,y_test = train_test_split(train_images,y1,test_size=0.2,random_state = 42)"
      ],
      "metadata": {
        "trusted": true,
        "id": "3gMyQfd7TDSu"
      },
      "execution_count": null,
      "outputs": []
    },
    {
      "cell_type": "markdown",
      "source": [
        "## Creating the model"
      ],
      "metadata": {
        "id": "UwvsvzZSqhba"
      }
    },
    {
      "cell_type": "code",
      "source": [
        "model = tf.keras.Sequential([\n",
        "    tf.keras.layers.Conv2D(32,3,input_shape=(28,28,1)),\n",
        "    tf.keras.layers.MaxPooling2D(2,2),\n",
        "    tf.keras.layers.Flatten(input_shape=(28,28,1)),\n",
        "    tf.keras.layers.Dense(512,activation='relu'),\n",
        "    tf.keras.layers.Dense(128,activation='relu'),\n",
        "    tf.keras.layers.Dense(number_of_classes,activation='softmax')\n",
        "])"
      ],
      "metadata": {
        "trusted": true,
        "id": "K9zpxph0TDSu"
      },
      "execution_count": null,
      "outputs": []
    },
    {
      "cell_type": "code",
      "source": [
        "model.compile(optimizer='rmsprop',loss='categorical_crossentropy',metrics=['accuracy'])"
      ],
      "metadata": {
        "trusted": true,
        "id": "iNRd6mbSTDSu"
      },
      "execution_count": null,
      "outputs": []
    },
    {
      "cell_type": "code",
      "source": [
        "MCP = ModelCheckpoint('Best_points.h5',verbose=1,save_best_only=True,monitor='val_accuracy',mode='max')\n",
        "ES = EarlyStopping(monitor='val_accuracy',min_delta=0,verbose=0,restore_best_weights = True,patience=3,mode='max')\n",
        "RLP = ReduceLROnPlateau(monitor='val_loss',patience=3,factor=0.2,min_lr=0.0001)"
      ],
      "metadata": {
        "trusted": true,
        "id": "v7AfoHQ5TDSu"
      },
      "execution_count": null,
      "outputs": []
    },
    {
      "cell_type": "code",
      "source": [
        "history = model.fit(x_train,y_train,epochs=10,validation_split=0.2,callbacks=[MCP,ES,RLP])"
      ],
      "metadata": {
        "trusted": true,
        "colab": {
          "base_uri": "https://localhost:8080/"
        },
        "id": "yvpZh17VTDSu",
        "outputId": "fcc1c16d-cc49-490e-82d2-5b911106ca65"
      },
      "execution_count": null,
      "outputs": [
        {
          "output_type": "stream",
          "name": "stdout",
          "text": [
            "Epoch 1/10\n",
            "1776/1776 [==============================] - ETA: 0s - loss: 0.6075 - accuracy: 0.8104\n",
            "Epoch 1: val_accuracy improved from -inf to 0.88021, saving model to Best_points.h5\n",
            "1776/1776 [==============================] - 123s 69ms/step - loss: 0.6075 - accuracy: 0.8104 - val_loss: 0.3919 - val_accuracy: 0.8802 - lr: 0.0010\n",
            "Epoch 2/10\n",
            "   1/1776 [..............................] - ETA: 1:25 - loss: 0.4149 - accuracy: 0.9062"
          ]
        },
        {
          "output_type": "stream",
          "name": "stderr",
          "text": [
            "/usr/local/lib/python3.10/dist-packages/keras/src/engine/training.py:3103: UserWarning: You are saving your model as an HDF5 file via `model.save()`. This file format is considered legacy. We recommend using instead the native Keras format, e.g. `model.save('my_model.keras')`.\n",
            "  saving_api.save_model(\n"
          ]
        },
        {
          "output_type": "stream",
          "name": "stdout",
          "text": [
            "1776/1776 [==============================] - ETA: 0s - loss: 0.2888 - accuracy: 0.9048\n",
            "Epoch 2: val_accuracy improved from 0.88021 to 0.89717, saving model to Best_points.h5\n",
            "1776/1776 [==============================] - 115s 65ms/step - loss: 0.2888 - accuracy: 0.9048 - val_loss: 0.3299 - val_accuracy: 0.8972 - lr: 0.0010\n",
            "Epoch 3/10\n",
            "1776/1776 [==============================] - ETA: 0s - loss: 0.2120 - accuracy: 0.9283\n",
            "Epoch 3: val_accuracy improved from 0.89717 to 0.90055, saving model to Best_points.h5\n",
            "1776/1776 [==============================] - 115s 65ms/step - loss: 0.2120 - accuracy: 0.9283 - val_loss: 0.3661 - val_accuracy: 0.9005 - lr: 0.0010\n",
            "Epoch 4/10\n",
            "1776/1776 [==============================] - ETA: 0s - loss: 0.1666 - accuracy: 0.9408\n",
            "Epoch 4: val_accuracy improved from 0.90055 to 0.90217, saving model to Best_points.h5\n",
            "1776/1776 [==============================] - 126s 71ms/step - loss: 0.1666 - accuracy: 0.9408 - val_loss: 0.3741 - val_accuracy: 0.9022 - lr: 0.0010\n",
            "Epoch 5/10\n",
            "1775/1776 [============================>.] - ETA: 0s - loss: 0.1344 - accuracy: 0.9512\n",
            "Epoch 5: val_accuracy improved from 0.90217 to 0.90238, saving model to Best_points.h5\n",
            "1776/1776 [==============================] - 117s 66ms/step - loss: 0.1346 - accuracy: 0.9512 - val_loss: 0.4123 - val_accuracy: 0.9024 - lr: 0.0010\n",
            "Epoch 6/10\n",
            "1776/1776 [==============================] - ETA: 0s - loss: 0.0639 - accuracy: 0.9743\n",
            "Epoch 6: val_accuracy improved from 0.90238 to 0.91547, saving model to Best_points.h5\n",
            "1776/1776 [==============================] - 115s 65ms/step - loss: 0.0639 - accuracy: 0.9743 - val_loss: 0.3730 - val_accuracy: 0.9155 - lr: 2.0000e-04\n",
            "Epoch 7/10\n",
            "1775/1776 [============================>.] - ETA: 0s - loss: 0.0485 - accuracy: 0.9803\n",
            "Epoch 7: val_accuracy improved from 0.91547 to 0.91554, saving model to Best_points.h5\n",
            "1776/1776 [==============================] - 107s 60ms/step - loss: 0.0484 - accuracy: 0.9803 - val_loss: 0.4097 - val_accuracy: 0.9155 - lr: 2.0000e-04\n",
            "Epoch 8/10\n",
            "1776/1776 [==============================] - ETA: 0s - loss: 0.0433 - accuracy: 0.9819\n",
            "Epoch 8: val_accuracy did not improve from 0.91554\n",
            "1776/1776 [==============================] - 121s 68ms/step - loss: 0.0433 - accuracy: 0.9819 - val_loss: 0.4234 - val_accuracy: 0.9124 - lr: 2.0000e-04\n",
            "Epoch 9/10\n",
            "1776/1776 [==============================] - ETA: 0s - loss: 0.0367 - accuracy: 0.9848\n",
            "Epoch 9: val_accuracy did not improve from 0.91554\n",
            "1776/1776 [==============================] - 122s 69ms/step - loss: 0.0367 - accuracy: 0.9848 - val_loss: 0.4409 - val_accuracy: 0.9140 - lr: 1.0000e-04\n",
            "Epoch 10/10\n",
            "1776/1776 [==============================] - ETA: 0s - loss: 0.0345 - accuracy: 0.9854\n",
            "Epoch 10: val_accuracy did not improve from 0.91554\n",
            "1776/1776 [==============================] - 117s 66ms/step - loss: 0.0345 - accuracy: 0.9854 - val_loss: 0.4806 - val_accuracy: 0.9125 - lr: 1.0000e-04\n"
          ]
        }
      ]
    },
    {
      "cell_type": "code",
      "source": [
        "model.evaluate(x_test,y_test)"
      ],
      "metadata": {
        "colab": {
          "base_uri": "https://localhost:8080/"
        },
        "id": "FIX1yVmJVPlm",
        "outputId": "4408a2d2-e250-458f-8d30-39a16aecf77a"
      },
      "execution_count": null,
      "outputs": [
        {
          "output_type": "stream",
          "name": "stdout",
          "text": [
            "555/555 [==============================] - 9s 17ms/step - loss: 0.3587 - accuracy: 0.9172\n"
          ]
        },
        {
          "output_type": "execute_result",
          "data": {
            "text/plain": [
              "[0.3586798310279846, 0.917173445224762]"
            ]
          },
          "metadata": {},
          "execution_count": 20
        }
      ]
    },
    {
      "cell_type": "code",
      "source": [
        "q = len(history.history['accuracy'])\n",
        "\n",
        "plt.figsize=(10,10)\n",
        "sns.lineplot(x = range(1,1+q),y = history.history['accuracy'], label='Accuracy')\n",
        "sns.lineplot(x = range(1,1+q),y = history.history['val_accuracy'], label='Val_Accuracy')\n",
        "plt.xlabel('epochs')\n",
        "plt.ylabel('accuracy')"
      ],
      "metadata": {
        "trusted": true,
        "colab": {
          "base_uri": "https://localhost:8080/",
          "height": 466
        },
        "id": "3yCGuG6jTDSu",
        "outputId": "7ae9eb84-5963-4632-9274-d9f34c5a253c"
      },
      "execution_count": null,
      "outputs": [
        {
          "output_type": "execute_result",
          "data": {
            "text/plain": [
              "Text(0, 0.5, 'accuracy')"
            ]
          },
          "metadata": {},
          "execution_count": 21
        },
        {
          "output_type": "display_data",
          "data": {
            "text/plain": [
              "<Figure size 640x480 with 1 Axes>"
            ],
            "image/png": "[encoded data removed]"
          },
          "metadata": {}
        }
      ]
    },
    {
      "cell_type": "code",
      "source": [
        "images=x_train[5:10]\n",
        "labels=y_train[5:10]"
      ],
      "metadata": {
        "id": "4Y6N7i1Bxfft"
      },
      "execution_count": null,
      "outputs": []
    },
    {
      "cell_type": "code",
      "source": [
        "# Read the mapping file\n",
        "def get_char(index):\n",
        "  mapping = {}\n",
        "  with open('/content/emnist-letters-mapping.txt', 'r') as f:\n",
        "      for line in f:\n",
        "          parts = line.strip().split(' ')\n",
        "          label = int(parts[0])\n",
        "          characters = [chr(int(c)) for c in parts[1:]]\n",
        "          mapping[label] = characters\n",
        "\n",
        "  # Convert numeric labels to characters\n",
        "  numeric_label = index\n",
        "  characters = mapping.get(numeric_label, [])\n",
        "  return characters\n",
        "\n",
        "# print(f\"Numeric label {numeric_label} corresponds to characters: {', '.join(characters)}\")\n"
      ],
      "metadata": {
        "id": "ttT9Slur7NCg"
      },
      "execution_count": null,
      "outputs": []
    },
    {
      "cell_type": "code",
      "source": [
        "import numpy as np\n",
        "import matplotlib.pyplot as plt\n",
        "\n",
        "# Assuming images is a list of images and labels is a list of corresponding labels\n",
        "fig, axes = plt.subplots(1, len(images), figsize=(15, 8))\n",
        "for i, (image, label) in enumerate(zip(images, labels)):\n",
        "    expanded_data = np.expand_dims(image, axis=0)\n",
        "    prediction = model.predict(expanded_data)\n",
        "    predicted_class_index = np.argmax(prediction)\n",
        "\n",
        "    # Read the mapping file\n",
        "    mapping = {}\n",
        "    with open('/content/emnist-letters-mapping.txt', 'r') as f:\n",
        "        for line in f:\n",
        "            parts = line.strip().split(' ')\n",
        "            label_num = int(parts[0])\n",
        "            characters = ''.join([chr(int(c)) for c in parts[1:]])\n",
        "            mapping[label_num] = characters\n",
        "\n",
        "    # Convert numeric labels to characters\n",
        "    predicted_characters = mapping.get(predicted_class_index)\n",
        "    label_key = tuple(label.tolist()) if isinstance(label, np.ndarray) else label\n",
        "\n",
        "    predicted_class_index = np.argmax(labels[i])\n",
        "    char = get_char(predicted_class_index)\n",
        "    print(\"value of char \", char)\n",
        "\n",
        "    # Display the image, actual label, and prediction\n",
        "    axes[i].imshow(image)\n",
        "    axes[i].axis('off')\n",
        "    axes[i].set_title(f\"Actual: {char}\\nPrediction: {predicted_characters}\")\n",
        "\n",
        "plt.tight_layout()\n",
        "plt.show()\n"
      ],
      "metadata": {
        "colab": {
          "base_uri": "https://localhost:8080/",
          "height": 518
        },
        "id": "guyz56cOXXi2",
        "outputId": "a50c37da-59d6-4e1b-8142-d71c726de901"
      },
      "execution_count": null,
      "outputs": [
        {
          "output_type": "stream",
          "name": "stdout",
          "text": [
            "1/1 [==============================] - 0s 302ms/step\n",
            "value of char  ['E', 'e']\n",
            "1/1 [==============================] - 0s 48ms/step\n",
            "value of char  ['V', 'v']\n",
            "1/1 [==============================] - 0s 38ms/step\n",
            "value of char  ['A', 'a']\n",
            "1/1 [==============================] - 0s 37ms/step\n",
            "value of char  ['P', 'p']\n",
            "1/1 [==============================] - 0s 34ms/step\n",
            "value of char  ['N', 'n']\n"
          ]
        },
        {
          "output_type": "display_data",
          "data": {
            "text/plain": [
              "<Figure size 1500x800 with 5 Axes>"
            ],
            "image/png": "[encoded data removed]"
          },
          "metadata": {}
        }
      ]
    }
  ]
}